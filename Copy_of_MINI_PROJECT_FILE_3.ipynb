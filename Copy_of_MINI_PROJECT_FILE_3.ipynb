{
  "nbformat": 4,
  "nbformat_minor": 0,
  "metadata": {
    "colab": {
      "name": "Copy of MINI PROJECT FILE 3.ipynb",
      "provenance": [],
      "include_colab_link": true
    },
    "kernelspec": {
      "name": "python3",
      "display_name": "Python 3"
    }
  },
  "cells": [
    {
      "cell_type": "markdown",
      "metadata": {
        "id": "view-in-github",
        "colab_type": "text"
      },
      "source": [
        "<a href=\"https://colab.research.google.com/github/anantshahi/Anime_Recommendation_engine/blob/master/Copy_of_MINI_PROJECT_FILE_3.ipynb\" target=\"_parent\"><img src=\"https://colab.research.google.com/assets/colab-badge.svg\" alt=\"Open In Colab\"/></a>"
      ]
    },
    {
      "cell_type": "code",
      "metadata": {
        "id": "DMnzw2enJ8s0"
      },
      "source": [
        "#################### MYSTERY OF DATES AND DAYS  #####################"
      ],
      "execution_count": null,
      "outputs": []
    },
    {
      "cell_type": "code",
      "metadata": {
        "colab": {
          "base_uri": "https://localhost:8080/",
          "height": 69
        },
        "id": "MFulWV18Kace",
        "outputId": "f14191f6-662d-4632-880c-e4f05d57b38a"
      },
      "source": [
        "''' \n",
        "   author @khushi17kaushik\n",
        "   Windows version 7\n",
        "   Coded on Google Colab notebooks\n",
        "'''"
      ],
      "execution_count": null,
      "outputs": [
        {
          "output_type": "execute_result",
          "data": {
            "application/vnd.google.colaboratory.intrinsic+json": {
              "type": "string"
            },
            "text/plain": [
              "' \\n   author @khushi17kaushik\\n   Windows version 7\\n   Coded on Google Colab notebooks\\n'"
            ]
          },
          "metadata": {
            "tags": []
          },
          "execution_count": 2
        }
      ]
    },
    {
      "cell_type": "code",
      "metadata": {
        "colab": {
          "base_uri": "https://localhost:8080/",
          "height": 120
        },
        "id": "TzYogOWqKrke",
        "outputId": "5428f8ff-6fd7-4088-ec25-4a32079b1139"
      },
      "source": [
        "#Through this program I have tried to give a shape to all the aptitude questions based on dates and days.\n",
        "'''\n",
        "  Firstly, the user has to enter the date,year,century and month\n",
        "  After that the user has to enter the nearest value to the decimal number.\n",
        "  And last but not the least the output you get is the day.\n",
        "'''"
      ],
      "execution_count": null,
      "outputs": [
        {
          "output_type": "execute_result",
          "data": {
            "application/vnd.google.colaboratory.intrinsic+json": {
              "type": "string"
            },
            "text/plain": [
              "'\\n  Firstly, the user has to enter the date,year,century and month\\n  After that the user has to enter the nearest value to the decimal number.\\n  And last but not the least the output you get is the day.\\n'"
            ]
          },
          "metadata": {
            "tags": []
          },
          "execution_count": 4
        }
      ]
    },
    {
      "cell_type": "code",
      "metadata": {
        "colab": {
          "base_uri": "https://localhost:8080/"
        },
        "id": "S7UToEAwKXp6",
        "outputId": "6051f99f-6138-4023-8df4-7b7558dd4865"
      },
      "source": [
        " d = int(input(\"Enter the date:\\n\"))\n",
        " y = int(input(\"Enter the last two digit of year:\\n\"))\n",
        " c = int(input(\"Mention the century as 1900,1700,1800,2000:\\n\"))\n",
        " m = int(input(\"Enter the month number (1 for Jan):\\n\"))\n",
        " \n",
        "p = (y/4)+d\n",
        "if m==1:\n",
        "   p+= 1\n",
        "elif m==2:\n",
        "   p+=4\n",
        "elif m==3:\n",
        "   p+=4\n",
        "elif m==4:\n",
        "   p+=0\n",
        "elif m==5:\n",
        "   p+=2\n",
        "elif m==6:\n",
        "   p+=5\n",
        "elif m==7:\n",
        "   p+=0\n",
        "elif m==8:\n",
        "   p+=3\n",
        "elif m==9:\n",
        "   p+=6\n",
        "elif m==10:\n",
        "   p+=1\n",
        "elif m==11:\n",
        "   p+=4\n",
        "elif m==12:\n",
        "   p+=6\n",
        "else:\n",
        "   print(\"Wrong Information\")\n",
        " \n",
        " \n",
        "if y/4==0:\n",
        "    p-=1\n",
        "else:\n",
        "    p+=0\n",
        " \n",
        "if c==1700:\n",
        "    p+=4\n",
        "elif c==1800:\n",
        "    p+=2\n",
        "elif c==1900:\n",
        "    p+=0\n",
        "elif c==2000:\n",
        "    p+=6\n",
        " \n",
        "b = round((p+y)/7)\n",
        "print(b)\n"
      ],
      "execution_count": 14,
      "outputs": [
        {
          "output_type": "stream",
          "text": [
            "Enter the date:\n",
            "17\n",
            "Enter the last two digit of year:\n",
            "5\n",
            "Mention the century as 1900,1700,1800,2000:\n",
            "2000\n",
            "Enter the month number (1 for Jan):\n",
            "6\n",
            "5\n"
          ],
          "name": "stdout"
        }
      ]
    },
    {
      "cell_type": "code",
      "metadata": {
        "colab": {
          "base_uri": "https://localhost:8080/"
        },
        "id": "KQb6Hzm2LxXn",
        "outputId": "0de5c8ed-c1be-4e1d-ce92-8d69501b63c5"
      },
      "source": [
        "f = int(input (\"Enter the above value nearest to the decimal value:\\n\"))\n",
        "\n",
        "\n",
        "final = f%10\n",
        " \n",
        "if final==0:\n",
        "   print(\"Sunday\")\n",
        " \n",
        "elif final==1:\n",
        " \n",
        "   print(\"Monday\")\n",
        " \n",
        "elif final==2:\n",
        " \n",
        "   print(\"Tuesday\")\n",
        " \n",
        "elif final==3:\n",
        " \n",
        "   print(\"Wednesday\")\n",
        " \n",
        "elif final==4:\n",
        " \n",
        "   print(\"Thursday\")\n",
        " \n",
        "elif final==5:\n",
        " \n",
        "   print(\"Friday\")\n",
        "elif final==6:\n",
        " \n",
        "   print(\"Saturday\")\n"
      ],
      "execution_count": 16,
      "outputs": [
        {
          "output_type": "stream",
          "text": [
            "Enter the above value nearest to the decimal value:\n",
            "5\n",
            "Friday\n"
          ],
          "name": "stdout"
        }
      ]
    },
    {
      "cell_type": "code",
      "metadata": {
        "id": "huEzq0HSL_Pt"
      },
      "source": [
        "###########################################"
      ],
      "execution_count": null,
      "outputs": []
    }
  ]
}