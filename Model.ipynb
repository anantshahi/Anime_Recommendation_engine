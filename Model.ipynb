{
 "cells": [
  {
   "cell_type": "code",
   "execution_count": 1,
   "metadata": {},
   "outputs": [],
   "source": [
    "import pandas as pd\n",
    "import numpy as np\n",
    "import matplotlib.pyplot as plt\n",
    "import seaborn as sns\n",
    "import pickle\n",
    "from flask import Flask, request, jsonify, render_template"
   ]
  },
  {
   "cell_type": "code",
   "execution_count": 2,
   "metadata": {},
   "outputs": [],
   "source": [
    "animedf = pd.read_csv(\"Dataset/anime.csv\")\n",
    "\n",
    "ratingsdf = pd.read_csv(\"Dataset/rating.csv\")"
   ]
  },
  {
   "cell_type": "code",
   "execution_count": 3,
   "metadata": {},
   "outputs": [],
   "source": [
    "anime = animedf.dropna()"
   ]
  },
  {
   "cell_type": "code",
   "execution_count": 4,
   "metadata": {},
   "outputs": [],
   "source": [
    "count = animedf['rating'].value_counts()\n",
    "\n",
    "animedf = animedf[animedf['rating'].isin(count[count>=4].index)]\n",
    "\n"
   ]
  },
  {
   "cell_type": "code",
   "execution_count": 5,
   "metadata": {},
   "outputs": [],
   "source": [
    "#our datasets after conditional selection \n",
    "animedf.rename(columns = {'rating':'animeRating'}, inplace=True)\n"
   ]
  },
  {
   "cell_type": "code",
   "execution_count": 6,
   "metadata": {},
   "outputs": [],
   "source": [
    "ratingsdf.rename(columns={'rating':'userRating'}, inplace=True)"
   ]
  },
  {
   "cell_type": "code",
   "execution_count": 7,
   "metadata": {},
   "outputs": [],
   "source": [
    "combineAnime = pd.merge(ratingsdf,animedf, on ='anime_id')"
   ]
  },
  {
   "cell_type": "code",
   "execution_count": null,
   "metadata": {},
   "outputs": [],
   "source": []
  },
  {
   "cell_type": "code",
   "execution_count": null,
   "metadata": {},
   "outputs": [],
   "source": []
  },
  {
   "cell_type": "code",
   "execution_count": 8,
   "metadata": {},
   "outputs": [],
   "source": [
    "combineAnime = combineAnime.dropna()"
   ]
  },
  {
   "cell_type": "code",
   "execution_count": null,
   "metadata": {},
   "outputs": [],
   "source": []
  },
  {
   "cell_type": "code",
   "execution_count": 9,
   "metadata": {},
   "outputs": [],
   "source": [
    "animeRatingCount = (combineAnime.\n",
    "                     groupby(by=['name'])['animeRating'].\n",
    "                     count().\n",
    "                     reset_index().\n",
    "                     rename(columns = {'animeRating': 'totalRatingCount'})\n",
    "                     [['name','totalRatingCount']]\n",
    "                    )\n"
   ]
  },
  {
   "cell_type": "code",
   "execution_count": null,
   "metadata": {},
   "outputs": [],
   "source": []
  },
  {
   "cell_type": "code",
   "execution_count": 10,
   "metadata": {},
   "outputs": [],
   "source": [
    "animeRatingCount['name'] = animeRatingCount['name'].apply(lambda x : x.replace('&quot;',''))"
   ]
  },
  {
   "cell_type": "code",
   "execution_count": null,
   "metadata": {},
   "outputs": [],
   "source": []
  },
  {
   "cell_type": "code",
   "execution_count": 11,
   "metadata": {},
   "outputs": [],
   "source": [
    "finalCombineAnime = combineAnime.merge(animeRatingCount,left_on='name', right_on='name',how='left')\n"
   ]
  },
  {
   "cell_type": "code",
   "execution_count": null,
   "metadata": {},
   "outputs": [],
   "source": []
  },
  {
   "cell_type": "code",
   "execution_count": 12,
   "metadata": {},
   "outputs": [
    {
     "name": "stderr",
     "output_type": "stream",
     "text": [
      "C:\\Users\\91847\\Anaconda3\\lib\\site-packages\\ipykernel_launcher.py:5: SettingWithCopyWarning: \n",
      "A value is trying to be set on a copy of a slice from a DataFrame.\n",
      "Try using .loc[row_indexer,col_indexer] = value instead\n",
      "\n",
      "See the caveats in the documentation: https://pandas.pydata.org/pandas-docs/stable/user_guide/indexing.html#returning-a-view-versus-a-copy\n",
      "  \"\"\"\n"
     ]
    }
   ],
   "source": [
    "popularity_threshold = 500\n",
    "\n",
    "rating_popular_anime = finalCombineAnime.query('totalRatingCount>= @popularity_threshold')\n",
    "\n",
    "rating_popular_anime['name'] = rating_popular_anime['name'].str.lower()"
   ]
  },
  {
   "cell_type": "code",
   "execution_count": 13,
   "metadata": {},
   "outputs": [
    {
     "data": {
      "text/plain": [
       "NearestNeighbors(algorithm='brute', leaf_size=30, metric='cosine',\n",
       "                 metric_params=None, n_jobs=None, n_neighbors=5, p=2,\n",
       "                 radius=1.0)"
      ]
     },
     "execution_count": 13,
     "metadata": {},
     "output_type": "execute_result"
    }
   ],
   "source": [
    "from scipy.sparse import csr_matrix\n",
    "\n",
    "#We will be dropping duplicates in order to make it efficient from both bookTitle and userID\n",
    "\n",
    "rating_popular_anime = rating_popular_anime.drop_duplicates(['user_id','name'])\n",
    "\n",
    "#This setp is important as we will be creating pivot table for the final dataframe \n",
    "\n",
    "rating_popular_anime_pivot = rating_popular_anime.pivot(index='name', columns='user_id', values ='animeRating').fillna(0)\n",
    "\n",
    "rating_popular_anime_matrix = csr_matrix(rating_popular_anime_pivot.values)\n",
    "\n",
    "\n",
    "#We will be training our data by fitting it into nearest neighbour\n",
    "\n",
    "from sklearn.neighbors import NearestNeighbors\n",
    "\n",
    "model_knn  = NearestNeighbors(metric='cosine', algorithm='brute')\n",
    "\n",
    "model_knn.fit(rating_popular_anime_matrix)"
   ]
  },
  {
   "cell_type": "code",
   "execution_count": null,
   "metadata": {},
   "outputs": [],
   "source": []
  },
  {
   "cell_type": "code",
   "execution_count": null,
   "metadata": {},
   "outputs": [],
   "source": []
  },
  {
   "cell_type": "code",
   "execution_count": null,
   "metadata": {},
   "outputs": [],
   "source": []
  },
  {
   "cell_type": "code",
   "execution_count": null,
   "metadata": {},
   "outputs": [],
   "source": []
  },
  {
   "cell_type": "code",
   "execution_count": null,
   "metadata": {},
   "outputs": [],
   "source": []
  },
  {
   "cell_type": "code",
   "execution_count": 14,
   "metadata": {},
   "outputs": [],
   "source": [
    "app = Flask(__name__)"
   ]
  },
  {
   "cell_type": "code",
   "execution_count": 15,
   "metadata": {},
   "outputs": [],
   "source": [
    "@app.route('/')\n",
    "def home():\n",
    "    return render_template('index.html')"
   ]
  },
  {
   "cell_type": "code",
   "execution_count": 16,
   "metadata": {},
   "outputs": [],
   "source": [
    "\n",
    "def rcm(m):\n",
    "    \n",
    "    \n",
    "    m = m.lower()\n",
    "    \n",
    "    if name in rating_popular_anime_pivot.index:\n",
    "        userquery = m\n",
    "        distances,indices  = model_knn.kneighbors(rating_popular_anime_pivot.loc[userquery,:].values.reshape(1,-1),\n",
    "                                         n_neighbors=6)\n",
    "        animelist = []\n",
    "        \n",
    "        for i in range(0, len(distances.flatten())):\n",
    "            if i == 0:\n",
    "                print('Recommendations for {0}:\\n'.format(userquery))\n",
    "            else:\n",
    "               \n",
    "        \n",
    "                x = rating_popular_anime_pivot.index[indices.flatten()[i]]\n",
    "                animelist.append(x)\n",
    "        return animelist\n",
    "    \n",
    "\n",
    "\n",
    "    else:\n",
    "        return ('Sorry, either it is a typo, or the searched entity is not avaliable, which is rare')\n",
    "    \n",
    "\n",
    "    \n",
    "    \n",
    "    "
   ]
  },
  {
   "cell_type": "code",
   "execution_count": 17,
   "metadata": {},
   "outputs": [],
   "source": [
    "@app.route('/home',methods=['POST'])\n",
    "\n",
    "def prediction():\n",
    "    anime = request.args.get('anime')\n",
    "    r = rcm(anime)\n",
    "    if type(r)==type('string'):\n",
    "        return render_template('predictions.html',movie=movie,r=r,t='s')\n",
    "    else:\n",
    "        return render_template('predictions.html',movie=movie,r=r,t='l')"
   ]
  },
  {
   "cell_type": "code",
   "execution_count": null,
   "metadata": {},
   "outputs": [
    {
     "name": "stdout",
     "output_type": "stream",
     "text": [
      " * Serving Flask app \"__main__\" (lazy loading)\n",
      " * Environment: production\n",
      "   WARNING: This is a development server. Do not use it in a production deployment.\n",
      "   Use a production WSGI server instead.\n",
      " * Debug mode: off\n"
     ]
    },
    {
     "name": "stderr",
     "output_type": "stream",
     "text": [
      " * Running on http://127.0.0.1:5000/ (Press CTRL+C to quit)\n",
      "[2020-08-19 19:07:10,851] ERROR in app: Exception on / [GET]\n",
      "Traceback (most recent call last):\n",
      "  File \"C:\\Users\\91847\\Anaconda3\\lib\\site-packages\\flask\\app.py\", line 2446, in wsgi_app\n",
      "    response = self.full_dispatch_request()\n",
      "  File \"C:\\Users\\91847\\Anaconda3\\lib\\site-packages\\flask\\app.py\", line 1951, in full_dispatch_request\n",
      "    rv = self.handle_user_exception(e)\n",
      "  File \"C:\\Users\\91847\\Anaconda3\\lib\\site-packages\\flask\\app.py\", line 1820, in handle_user_exception\n",
      "    reraise(exc_type, exc_value, tb)\n",
      "  File \"C:\\Users\\91847\\Anaconda3\\lib\\site-packages\\flask\\_compat.py\", line 39, in reraise\n",
      "    raise value\n",
      "  File \"C:\\Users\\91847\\Anaconda3\\lib\\site-packages\\flask\\app.py\", line 1949, in full_dispatch_request\n",
      "    rv = self.dispatch_request()\n",
      "  File \"C:\\Users\\91847\\Anaconda3\\lib\\site-packages\\flask\\app.py\", line 1935, in dispatch_request\n",
      "    return self.view_functions[rule.endpoint](**req.view_args)\n",
      "  File \"<ipython-input-15-bf5f64f97e37>\", line 3, in home\n",
      "    return render_template('index.html')\n",
      "  File \"C:\\Users\\91847\\Anaconda3\\lib\\site-packages\\flask\\templating.py\", line 140, in render_template\n",
      "    ctx.app,\n",
      "  File \"C:\\Users\\91847\\Anaconda3\\lib\\site-packages\\flask\\templating.py\", line 120, in _render\n",
      "    rv = template.render(context)\n",
      "  File \"C:\\Users\\91847\\Anaconda3\\lib\\site-packages\\jinja2\\environment.py\", line 1090, in render\n",
      "    self.environment.handle_exception()\n",
      "  File \"C:\\Users\\91847\\Anaconda3\\lib\\site-packages\\jinja2\\environment.py\", line 832, in handle_exception\n",
      "    reraise(*rewrite_traceback_stack(source=source))\n",
      "  File \"C:\\Users\\91847\\Anaconda3\\lib\\site-packages\\jinja2\\_compat.py\", line 28, in reraise\n",
      "    raise value.with_traceback(tb)\n",
      "  File \"C:\\Users\\91847\\Documents\\GitHub\\Anime_Recommendation_engine\\Frontend\\frontend\\templates\\index.html\", line 46, in top-level template code\n",
      "    <form action=\"{{url_for('recommend')}}\">\n",
      "  File \"C:\\Users\\91847\\Anaconda3\\lib\\site-packages\\flask\\helpers.py\", line 370, in url_for\n",
      "    return appctx.app.handle_url_build_error(error, endpoint, values)\n",
      "  File \"C:\\Users\\91847\\Anaconda3\\lib\\site-packages\\flask\\app.py\", line 2215, in handle_url_build_error\n",
      "    reraise(exc_type, exc_value, tb)\n",
      "  File \"C:\\Users\\91847\\Anaconda3\\lib\\site-packages\\flask\\_compat.py\", line 39, in reraise\n",
      "    raise value\n",
      "  File \"C:\\Users\\91847\\Anaconda3\\lib\\site-packages\\flask\\helpers.py\", line 358, in url_for\n",
      "    endpoint, values, method=method, force_external=external\n",
      "  File \"C:\\Users\\91847\\Anaconda3\\lib\\site-packages\\werkzeug\\routing.py\", line 2179, in build\n",
      "    raise BuildError(endpoint, values, method, self)\n",
      "werkzeug.routing.BuildError: Could not build url for endpoint 'recommend'. Did you mean 'home' instead?\n",
      "127.0.0.1 - - [19/Aug/2020 19:07:10] \"\u001b[35m\u001b[1mGET / HTTP/1.1\u001b[0m\" 500 -\n",
      "127.0.0.1 - - [19/Aug/2020 19:07:11] \"\u001b[33mGET /favicon.ico HTTP/1.1\u001b[0m\" 404 -\n"
     ]
    }
   ],
   "source": [
    "if __name__ == '__main__':\n",
    "    app.run(debug=False)"
   ]
  },
  {
   "cell_type": "code",
   "execution_count": null,
   "metadata": {},
   "outputs": [],
   "source": []
  },
  {
   "cell_type": "code",
   "execution_count": null,
   "metadata": {},
   "outputs": [],
   "source": []
  },
  {
   "cell_type": "code",
   "execution_count": null,
   "metadata": {},
   "outputs": [],
   "source": []
  },
  {
   "cell_type": "code",
   "execution_count": null,
   "metadata": {},
   "outputs": [],
   "source": []
  },
  {
   "cell_type": "code",
   "execution_count": null,
   "metadata": {},
   "outputs": [],
   "source": []
  },
  {
   "cell_type": "code",
   "execution_count": null,
   "metadata": {},
   "outputs": [],
   "source": []
  },
  {
   "cell_type": "code",
   "execution_count": null,
   "metadata": {},
   "outputs": [],
   "source": []
  },
  {
   "cell_type": "code",
   "execution_count": null,
   "metadata": {},
   "outputs": [],
   "source": []
  }
 ],
 "metadata": {
  "kernelspec": {
   "display_name": "Python 3",
   "language": "python",
   "name": "python3"
  },
  "language_info": {
   "codemirror_mode": {
    "name": "ipython",
    "version": 3
   },
   "file_extension": ".py",
   "mimetype": "text/x-python",
   "name": "python",
   "nbconvert_exporter": "python",
   "pygments_lexer": "ipython3",
   "version": "3.7.6"
  }
 },
 "nbformat": 4,
 "nbformat_minor": 4
}
